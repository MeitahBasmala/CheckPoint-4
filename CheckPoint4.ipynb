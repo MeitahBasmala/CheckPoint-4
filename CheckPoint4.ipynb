{
 "cells": [
  {
   "cell_type": "code",
   "execution_count": 9,
   "id": "de4a026b",
   "metadata": {
    "scrolled": true
   },
   "outputs": [
    {
     "data": {
      "text/plain": [
       "35"
      ]
     },
     "execution_count": 9,
     "metadata": {},
     "output_type": "execute_result"
    }
   ],
   "source": [
    "'''Write a Python function to find the largest (max) of three numbers'''\n",
    "def maxi(a,b,c):\n",
    "    if a>=b and a>=c:\n",
    "        maximum = a\n",
    "    elif b>=a and b>=c:\n",
    "        maximum = b\n",
    "    else:\n",
    "        maximum = c\n",
    "    return maximum\n",
    "    \n",
    "maxi(20, 35, 19)\n",
    "    "
   ]
  },
  {
   "cell_type": "code",
   "execution_count": 7,
   "id": "f02ace92",
   "metadata": {},
   "outputs": [
    {
     "name": "stdout",
     "output_type": "stream",
     "text": [
      "a : 40\n",
      "b : 10\n",
      "40 + 10 = 50\n",
      "40 - 10 = 30\n"
     ]
    }
   ],
   "source": [
    "'''Write a function calculation() so it can accept two variables and \n",
    "calculate the addition and subtraction of them.\n",
    "It must return both addition and subtraction in a single return call.'''\n",
    "\n",
    "a = int(input(\"a : \"))\n",
    "b = int(input(\"b : \"))\n",
    "def calculation(a,b):\n",
    "    print(a, \"+\" , b ,\"=\", a+b)\n",
    "    print(a, \"-\" , b ,\"=\", a-b)\n",
    "\n",
    "calculation(a,b)"
   ]
  },
  {
   "cell_type": "code",
   "execution_count": 8,
   "id": "157a7c58",
   "metadata": {},
   "outputs": [
    {
     "name": "stdout",
     "output_type": "stream",
     "text": [
      "Enter the list size 5\n",
      "1\n",
      "2\n",
      "3\n",
      "4\n",
      "5\n",
      "The list [1, 2, 3, 4, 5]\n",
      "result of sum =  9\n",
      "result of mul 8\n"
     ]
    }
   ],
   "source": [
    "'''Write a function that sums the elements of a list of integers.\n",
    "Write a function that multiplies the elements of an integer list.\n",
    "Use the two functions to sum the elements whose position is an even number (0,2,4…) and multiply the rest.\n",
    "Hint: Consider extracting two lists from a first list.'''\n",
    "\n",
    "list = [ ] \n",
    "list1 = [ ]\n",
    "list2 = [ ]\n",
    "n = int(input(\"Enter the list size \"))\n",
    "for i in range(0, n): \n",
    "    element = int(input())\n",
    "    list.append(element) \n",
    "    if i%2 == 0:\n",
    "        list1.append(element) \n",
    "    else:\n",
    "        list2.append(element) \n",
    "    \n",
    "print(\"The list\",list)\n",
    "sum=0\n",
    "for item in list1:\n",
    "    sum+=item\n",
    "print(\"result of sum = \", sum)\n",
    "mul=1\n",
    "for item in list2:\n",
    "    mul*=item\n",
    "print(\"result of mul\" ,mul)\n"
   ]
  },
  {
   "cell_type": "code",
   "execution_count": 3,
   "id": "9e555d2b",
   "metadata": {},
   "outputs": [
    {
     "name": "stdout",
     "output_type": "stream",
     "text": [
      "the sum of all the list :  15\n",
      "the multiplication of all the list :  120\n",
      "sum of numbers with even position =  9\n",
      "multiplication of numbers with odd position =  8\n"
     ]
    }
   ],
   "source": [
    "'''Write a function that sums the elements of a list of integers.\n",
    "Write a function that multiplies the elements of an integer list.\n",
    "Use the two functions to sum the elements whose position is an even number (0,2,4…) and multiply the rest.\n",
    "Hint: Consider extracting two lists from a first list.'''\n",
    "ls = [1,2,3,4,5]\n",
    "\n",
    "def sum(ls):\n",
    "    sum=0\n",
    "    for item in ls:\n",
    "        sum+=item\n",
    "    return(sum)\n",
    "print(\"the sum of all the list : \" ,sum(ls))\n",
    "\n",
    "def mul(ls):\n",
    "    mul=1\n",
    "    for item in ls:\n",
    "        mul*=item\n",
    "    return(mul)\n",
    "print(\"the multiplication of all the list : \" ,mul(ls))\n",
    "\n",
    "def sum_mul(ls):\n",
    "    list1 = [ ]\n",
    "    list2 = [ ]\n",
    "    for i in range(0, len(ls)): \n",
    "        element = int(ls[i])\n",
    "        if i%2 == 0:\n",
    "            list1.append(element) \n",
    "        else:\n",
    "            list2.append(element)\n",
    "\n",
    "    print(\"sum of numbers with even position = \",  sum(list1))\n",
    "    print(\"multiplication of numbers with odd position = \" , mul(list2))  \n",
    "sum_mul(ls)\n"
   ]
  },
  {
   "cell_type": "code",
   "execution_count": 18,
   "id": "96d57d8f",
   "metadata": {},
   "outputs": [
    {
     "name": "stdout",
     "output_type": "stream",
     "text": [
      "['black', 'green', 'red', 'white', 'yellow']\n"
     ]
    }
   ],
   "source": [
    "'''Write a Python program that accepts a hyphen-separated sequence of words as input \n",
    "and prints the words in a hyphen-separated sequence after sorting them alphabetically.\n",
    "Sample items: green-red-yellow-black-white\n",
    "Expected result: black-green-red-white-yellow\n",
    "Hint: There's a split function to separate your input string into words and a sort function to sort.'''\n",
    "\n",
    "def sortf(Str):\n",
    "    words = Str.split('-')\n",
    "    words.sort()\n",
    "    return(words)\n",
    "\n",
    "str1 = 'green-red-yellow-black-white'\n",
    "\n",
    "print(sortf(str1))\n"
   ]
  },
  {
   "cell_type": "code",
   "execution_count": 1,
   "id": "57065400",
   "metadata": {},
   "outputs": [
    {
     "name": "stdout",
     "output_type": "stream",
     "text": [
      "input D: 100,150,180\n",
      "18, 22, 24\n",
      "None\n"
     ]
    }
   ],
   "source": [
    "'''Write a function that calculates and prints the value according\n",
    "to the given formula: Q = square root of [(2 * C * D)/H]. \n",
    "Following are the fixed values of C and H: C is 50, and H is 30.\n",
    "D is the variable whose values should be input to your program in a comma-separated sequence.\n",
    "Example: Let us assume the following comma-separated input sequence is given to the function: 100,150,180. \n",
    "Expected result: 18,22,24 \n",
    "Hints: If the output received is in decimal form, it should be rounded off to its nearest value.\n",
    "For example, if the output received is 26.0, it should be printed as 26.\n",
    "In the case of input data being supplied to the question, it should be assumed to be a console input. '''\n",
    "\n",
    "import math\n",
    "def calc(D_list):\n",
    "    D_list = D_list.split(',')\n",
    "    result = []\n",
    "    for d in D_list:\n",
    "        q = round(math.sqrt(2 * 50 * eval(d) / 30))\n",
    "        result.append(q)\n",
    "    m = \", \".join([str(r) for r in result])\n",
    "        #m  = \", \".join(map(str, result))\n",
    "    print(m)\n",
    "   # return(result)\n",
    "D = input(\"input D: \")\n",
    "print(calc(D))"
   ]
  },
  {
   "cell_type": "code",
   "execution_count": 2,
   "id": "534e14fb",
   "metadata": {},
   "outputs": [
    {
     "name": "stdout",
     "output_type": "stream",
     "text": [
      "Enter the list size 3\n",
      "2\n",
      "3\n",
      "6\n",
      "The list [2, 3, 6]\n",
      "result 36\n"
     ]
    }
   ],
   "source": [
    "'''Write a Python program that multiplies all the items in a list.\n",
    "Sample list= [2, 3, 6]\n",
    "Result = 36'''\n",
    "\n",
    "list = [ ] \n",
    "n = int(input(\"Enter the list size \"))\n",
    "for i in range(0, n): \n",
    "    element = int(input())\n",
    "    list.append(element) \n",
    "print(\"The list\",list)\n",
    "mul=1\n",
    "for item in list:\n",
    "    mul*=item\n",
    "print(\"result\" ,mul)"
   ]
  }
 ],
 "metadata": {
  "kernelspec": {
   "display_name": "Python 3 (ipykernel)",
   "language": "python",
   "name": "python3"
  },
  "language_info": {
   "codemirror_mode": {
    "name": "ipython",
    "version": 3
   },
   "file_extension": ".py",
   "mimetype": "text/x-python",
   "name": "python",
   "nbconvert_exporter": "python",
   "pygments_lexer": "ipython3",
   "version": "3.9.12"
  }
 },
 "nbformat": 4,
 "nbformat_minor": 5
}
